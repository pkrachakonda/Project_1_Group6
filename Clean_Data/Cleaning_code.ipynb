{
 "cells": [
  {
   "cell_type": "code",
   "execution_count": 1,
   "id": "23096b17-5753-4316-a447-0c98db303f41",
   "metadata": {},
   "outputs": [],
   "source": [
    "# Dependencies\n",
    "import requests\n",
    "from pprint import pprint\n",
    "import numpy as np\n",
    "import pandas as pd"
   ]
  },
  {
   "cell_type": "code",
   "execution_count": 2,
   "id": "1a2b02ed-f62e-4f15-8c88-9e4afc1e6ac4",
   "metadata": {},
   "outputs": [
    {
     "data": {
      "text/html": [
       "<div>\n",
       "<style scoped>\n",
       "    .dataframe tbody tr th:only-of-type {\n",
       "        vertical-align: middle;\n",
       "    }\n",
       "\n",
       "    .dataframe tbody tr th {\n",
       "        vertical-align: top;\n",
       "    }\n",
       "\n",
       "    .dataframe thead th {\n",
       "        text-align: right;\n",
       "    }\n",
       "</style>\n",
       "<table border=\"1\" class=\"dataframe\">\n",
       "  <thead>\n",
       "    <tr style=\"text-align: right;\">\n",
       "      <th></th>\n",
       "      <th>ADDRESS</th>\n",
       "      <th>SUBURB</th>\n",
       "      <th>PRICE</th>\n",
       "      <th>BEDROOMS</th>\n",
       "      <th>BATHROOMS</th>\n",
       "      <th>GARAGE</th>\n",
       "      <th>LAND_AREA</th>\n",
       "      <th>FLOOR_AREA</th>\n",
       "      <th>BUILD_YEAR</th>\n",
       "      <th>CBD_DIST</th>\n",
       "      <th>NEAREST_STN</th>\n",
       "      <th>NEAREST_STN_DIST</th>\n",
       "      <th>DATE_SOLD</th>\n",
       "      <th>POSTCODE</th>\n",
       "      <th>LATITUDE</th>\n",
       "      <th>LONGITUDE</th>\n",
       "      <th>NEAREST_SCH</th>\n",
       "      <th>NEAREST_SCH_DIST</th>\n",
       "      <th>NEAREST_SCH_RANK</th>\n",
       "    </tr>\n",
       "  </thead>\n",
       "  <tbody>\n",
       "    <tr>\n",
       "      <th>0</th>\n",
       "      <td>1 Acorn Place</td>\n",
       "      <td>South Lake</td>\n",
       "      <td>565000</td>\n",
       "      <td>4</td>\n",
       "      <td>2</td>\n",
       "      <td>2.0</td>\n",
       "      <td>600</td>\n",
       "      <td>160</td>\n",
       "      <td>2003.0</td>\n",
       "      <td>18300</td>\n",
       "      <td>Cockburn Central Station</td>\n",
       "      <td>1800</td>\n",
       "      <td>09-2018\\r</td>\n",
       "      <td>6164</td>\n",
       "      <td>-32.115900</td>\n",
       "      <td>115.842450</td>\n",
       "      <td>LAKELAND SENIOR HIGH SCHOOL</td>\n",
       "      <td>0.828339</td>\n",
       "      <td>NaN</td>\n",
       "    </tr>\n",
       "    <tr>\n",
       "      <th>1</th>\n",
       "      <td>1 Addis Way</td>\n",
       "      <td>Wandi</td>\n",
       "      <td>365000</td>\n",
       "      <td>3</td>\n",
       "      <td>2</td>\n",
       "      <td>2.0</td>\n",
       "      <td>351</td>\n",
       "      <td>139</td>\n",
       "      <td>2013.0</td>\n",
       "      <td>26900</td>\n",
       "      <td>Kwinana Station</td>\n",
       "      <td>4900</td>\n",
       "      <td>02-2019\\r</td>\n",
       "      <td>6167</td>\n",
       "      <td>-32.193470</td>\n",
       "      <td>115.859554</td>\n",
       "      <td>ATWELL COLLEGE</td>\n",
       "      <td>5.524324</td>\n",
       "      <td>129.0</td>\n",
       "    </tr>\n",
       "    <tr>\n",
       "      <th>2</th>\n",
       "      <td>1 Ainsley Court</td>\n",
       "      <td>Camillo</td>\n",
       "      <td>287000</td>\n",
       "      <td>3</td>\n",
       "      <td>1</td>\n",
       "      <td>1.0</td>\n",
       "      <td>719</td>\n",
       "      <td>86</td>\n",
       "      <td>1979.0</td>\n",
       "      <td>22600</td>\n",
       "      <td>Challis Station</td>\n",
       "      <td>1900</td>\n",
       "      <td>06-2015\\r</td>\n",
       "      <td>6111</td>\n",
       "      <td>-32.120578</td>\n",
       "      <td>115.993579</td>\n",
       "      <td>KELMSCOTT SENIOR HIGH SCHOOL</td>\n",
       "      <td>1.649178</td>\n",
       "      <td>113.0</td>\n",
       "    </tr>\n",
       "    <tr>\n",
       "      <th>3</th>\n",
       "      <td>1 Albert Street</td>\n",
       "      <td>Bellevue</td>\n",
       "      <td>255000</td>\n",
       "      <td>2</td>\n",
       "      <td>1</td>\n",
       "      <td>2.0</td>\n",
       "      <td>651</td>\n",
       "      <td>59</td>\n",
       "      <td>1953.0</td>\n",
       "      <td>17900</td>\n",
       "      <td>Midland Station</td>\n",
       "      <td>3600</td>\n",
       "      <td>07-2018\\r</td>\n",
       "      <td>6056</td>\n",
       "      <td>-31.900547</td>\n",
       "      <td>116.038009</td>\n",
       "      <td>SWAN VIEW SENIOR HIGH SCHOOL</td>\n",
       "      <td>1.571401</td>\n",
       "      <td>NaN</td>\n",
       "    </tr>\n",
       "    <tr>\n",
       "      <th>4</th>\n",
       "      <td>1 Aman Place</td>\n",
       "      <td>Lockridge</td>\n",
       "      <td>325000</td>\n",
       "      <td>4</td>\n",
       "      <td>1</td>\n",
       "      <td>2.0</td>\n",
       "      <td>466</td>\n",
       "      <td>131</td>\n",
       "      <td>1998.0</td>\n",
       "      <td>11200</td>\n",
       "      <td>Bassendean Station</td>\n",
       "      <td>2000</td>\n",
       "      <td>11-2016\\r</td>\n",
       "      <td>6054</td>\n",
       "      <td>-31.885790</td>\n",
       "      <td>115.947780</td>\n",
       "      <td>KIARA COLLEGE</td>\n",
       "      <td>1.514922</td>\n",
       "      <td>NaN</td>\n",
       "    </tr>\n",
       "    <tr>\n",
       "      <th>...</th>\n",
       "      <td>...</td>\n",
       "      <td>...</td>\n",
       "      <td>...</td>\n",
       "      <td>...</td>\n",
       "      <td>...</td>\n",
       "      <td>...</td>\n",
       "      <td>...</td>\n",
       "      <td>...</td>\n",
       "      <td>...</td>\n",
       "      <td>...</td>\n",
       "      <td>...</td>\n",
       "      <td>...</td>\n",
       "      <td>...</td>\n",
       "      <td>...</td>\n",
       "      <td>...</td>\n",
       "      <td>...</td>\n",
       "      <td>...</td>\n",
       "      <td>...</td>\n",
       "      <td>...</td>\n",
       "    </tr>\n",
       "    <tr>\n",
       "      <th>33651</th>\n",
       "      <td>9C Gold Street</td>\n",
       "      <td>South Fremantle</td>\n",
       "      <td>1040000</td>\n",
       "      <td>4</td>\n",
       "      <td>3</td>\n",
       "      <td>2.0</td>\n",
       "      <td>292</td>\n",
       "      <td>245</td>\n",
       "      <td>2013.0</td>\n",
       "      <td>16100</td>\n",
       "      <td>Fremantle Station</td>\n",
       "      <td>1500</td>\n",
       "      <td>03-2016\\r</td>\n",
       "      <td>6162</td>\n",
       "      <td>-32.064580</td>\n",
       "      <td>115.751820</td>\n",
       "      <td>CHRISTIAN BROTHERS' COLLEGE</td>\n",
       "      <td>1.430350</td>\n",
       "      <td>49.0</td>\n",
       "    </tr>\n",
       "    <tr>\n",
       "      <th>33652</th>\n",
       "      <td>9C Pycombe Way</td>\n",
       "      <td>Westminster</td>\n",
       "      <td>410000</td>\n",
       "      <td>3</td>\n",
       "      <td>2</td>\n",
       "      <td>2.0</td>\n",
       "      <td>228</td>\n",
       "      <td>114</td>\n",
       "      <td>NaN</td>\n",
       "      <td>9600</td>\n",
       "      <td>Stirling Station</td>\n",
       "      <td>4600</td>\n",
       "      <td>02-2017\\r</td>\n",
       "      <td>6061</td>\n",
       "      <td>-31.867055</td>\n",
       "      <td>115.841403</td>\n",
       "      <td>JOHN SEPTIMUS ROE ANGLICAN COMMUNITY SCHOOL</td>\n",
       "      <td>1.679644</td>\n",
       "      <td>35.0</td>\n",
       "    </tr>\n",
       "    <tr>\n",
       "      <th>33653</th>\n",
       "      <td>9D Pycombe Way</td>\n",
       "      <td>Westminster</td>\n",
       "      <td>427000</td>\n",
       "      <td>3</td>\n",
       "      <td>2</td>\n",
       "      <td>2.0</td>\n",
       "      <td>261</td>\n",
       "      <td>112</td>\n",
       "      <td>NaN</td>\n",
       "      <td>9600</td>\n",
       "      <td>Stirling Station</td>\n",
       "      <td>4600</td>\n",
       "      <td>02-2017\\r</td>\n",
       "      <td>6061</td>\n",
       "      <td>-31.866890</td>\n",
       "      <td>115.841418</td>\n",
       "      <td>JOHN SEPTIMUS ROE ANGLICAN COMMUNITY SCHOOL</td>\n",
       "      <td>1.669159</td>\n",
       "      <td>35.0</td>\n",
       "    </tr>\n",
       "    <tr>\n",
       "      <th>33654</th>\n",
       "      <td>9D Shalford Way</td>\n",
       "      <td>Girrawheen</td>\n",
       "      <td>295000</td>\n",
       "      <td>3</td>\n",
       "      <td>1</td>\n",
       "      <td>2.0</td>\n",
       "      <td>457</td>\n",
       "      <td>85</td>\n",
       "      <td>1974.0</td>\n",
       "      <td>12600</td>\n",
       "      <td>Warwick Station</td>\n",
       "      <td>4400</td>\n",
       "      <td>10-2016\\r</td>\n",
       "      <td>6064</td>\n",
       "      <td>-31.839680</td>\n",
       "      <td>115.842410</td>\n",
       "      <td>GIRRAWHEEN SENIOR HIGH SCHOOL</td>\n",
       "      <td>0.358494</td>\n",
       "      <td>NaN</td>\n",
       "    </tr>\n",
       "    <tr>\n",
       "      <th>33655</th>\n",
       "      <td>9E Margaret Street</td>\n",
       "      <td>Midland</td>\n",
       "      <td>295000</td>\n",
       "      <td>3</td>\n",
       "      <td>1</td>\n",
       "      <td>2.0</td>\n",
       "      <td>296</td>\n",
       "      <td>95</td>\n",
       "      <td>NaN</td>\n",
       "      <td>16700</td>\n",
       "      <td>Midland Station</td>\n",
       "      <td>1700</td>\n",
       "      <td>05-2016\\r</td>\n",
       "      <td>6056</td>\n",
       "      <td>-31.882163</td>\n",
       "      <td>116.014755</td>\n",
       "      <td>LA SALLE COLLEGE</td>\n",
       "      <td>1.055564</td>\n",
       "      <td>53.0</td>\n",
       "    </tr>\n",
       "  </tbody>\n",
       "</table>\n",
       "<p>33656 rows × 19 columns</p>\n",
       "</div>"
      ],
      "text/plain": [
       "                  ADDRESS           SUBURB    PRICE  BEDROOMS  BATHROOMS  \\\n",
       "0           1 Acorn Place       South Lake   565000         4          2   \n",
       "1             1 Addis Way            Wandi   365000         3          2   \n",
       "2         1 Ainsley Court          Camillo   287000         3          1   \n",
       "3         1 Albert Street         Bellevue   255000         2          1   \n",
       "4            1 Aman Place        Lockridge   325000         4          1   \n",
       "...                   ...              ...      ...       ...        ...   \n",
       "33651      9C Gold Street  South Fremantle  1040000         4          3   \n",
       "33652      9C Pycombe Way      Westminster   410000         3          2   \n",
       "33653      9D Pycombe Way      Westminster   427000         3          2   \n",
       "33654     9D Shalford Way       Girrawheen   295000         3          1   \n",
       "33655  9E Margaret Street          Midland   295000         3          1   \n",
       "\n",
       "       GARAGE  LAND_AREA  FLOOR_AREA  BUILD_YEAR  CBD_DIST  \\\n",
       "0         2.0        600         160      2003.0     18300   \n",
       "1         2.0        351         139      2013.0     26900   \n",
       "2         1.0        719          86      1979.0     22600   \n",
       "3         2.0        651          59      1953.0     17900   \n",
       "4         2.0        466         131      1998.0     11200   \n",
       "...       ...        ...         ...         ...       ...   \n",
       "33651     2.0        292         245      2013.0     16100   \n",
       "33652     2.0        228         114         NaN      9600   \n",
       "33653     2.0        261         112         NaN      9600   \n",
       "33654     2.0        457          85      1974.0     12600   \n",
       "33655     2.0        296          95         NaN     16700   \n",
       "\n",
       "                    NEAREST_STN  NEAREST_STN_DIST  DATE_SOLD  POSTCODE  \\\n",
       "0      Cockburn Central Station              1800  09-2018\\r      6164   \n",
       "1               Kwinana Station              4900  02-2019\\r      6167   \n",
       "2               Challis Station              1900  06-2015\\r      6111   \n",
       "3               Midland Station              3600  07-2018\\r      6056   \n",
       "4            Bassendean Station              2000  11-2016\\r      6054   \n",
       "...                         ...               ...        ...       ...   \n",
       "33651         Fremantle Station              1500  03-2016\\r      6162   \n",
       "33652          Stirling Station              4600  02-2017\\r      6061   \n",
       "33653          Stirling Station              4600  02-2017\\r      6061   \n",
       "33654           Warwick Station              4400  10-2016\\r      6064   \n",
       "33655           Midland Station              1700  05-2016\\r      6056   \n",
       "\n",
       "        LATITUDE   LONGITUDE                                  NEAREST_SCH  \\\n",
       "0     -32.115900  115.842450                  LAKELAND SENIOR HIGH SCHOOL   \n",
       "1     -32.193470  115.859554                               ATWELL COLLEGE   \n",
       "2     -32.120578  115.993579                 KELMSCOTT SENIOR HIGH SCHOOL   \n",
       "3     -31.900547  116.038009                 SWAN VIEW SENIOR HIGH SCHOOL   \n",
       "4     -31.885790  115.947780                                KIARA COLLEGE   \n",
       "...          ...         ...                                          ...   \n",
       "33651 -32.064580  115.751820                  CHRISTIAN BROTHERS' COLLEGE   \n",
       "33652 -31.867055  115.841403  JOHN SEPTIMUS ROE ANGLICAN COMMUNITY SCHOOL   \n",
       "33653 -31.866890  115.841418  JOHN SEPTIMUS ROE ANGLICAN COMMUNITY SCHOOL   \n",
       "33654 -31.839680  115.842410                GIRRAWHEEN SENIOR HIGH SCHOOL   \n",
       "33655 -31.882163  116.014755                             LA SALLE COLLEGE   \n",
       "\n",
       "       NEAREST_SCH_DIST  NEAREST_SCH_RANK  \n",
       "0              0.828339               NaN  \n",
       "1              5.524324             129.0  \n",
       "2              1.649178             113.0  \n",
       "3              1.571401               NaN  \n",
       "4              1.514922               NaN  \n",
       "...                 ...               ...  \n",
       "33651          1.430350              49.0  \n",
       "33652          1.679644              35.0  \n",
       "33653          1.669159              35.0  \n",
       "33654          0.358494               NaN  \n",
       "33655          1.055564              53.0  \n",
       "\n",
       "[33656 rows x 19 columns]"
      ]
     },
     "execution_count": 2,
     "metadata": {},
     "output_type": "execute_result"
    }
   ],
   "source": [
    "# Import CSV as a Dataframe.\n",
    "Testing_excel_df = pd.read_csv(\"all_perth_310121.csv\")\n",
    "Testing_excel_df"
   ]
  },
  {
   "cell_type": "code",
   "execution_count": 3,
   "id": "c4203484-368a-4399-800d-6732473a52f3",
   "metadata": {},
   "outputs": [
    {
     "data": {
      "text/plain": [
       "31178"
      ]
     },
     "execution_count": 3,
     "metadata": {},
     "output_type": "execute_result"
    }
   ],
   "source": [
    "# Check how many of the Properties had garage values\n",
    "Testing_excel_df['GARAGE'].count()"
   ]
  },
  {
   "cell_type": "code",
   "execution_count": 4,
   "id": "82cb04e8-51fa-421f-b162-f713ed7f136a",
   "metadata": {},
   "outputs": [
    {
     "data": {
      "text/plain": [
       "dtype('float64')"
      ]
     },
     "execution_count": 4,
     "metadata": {},
     "output_type": "execute_result"
    }
   ],
   "source": [
    "# Check the value type of GARAGE column\n",
    "Testing_excel_df['GARAGE'].dtype"
   ]
  },
  {
   "cell_type": "code",
   "execution_count": 5,
   "id": "08dfa5ed-0984-4ad7-9c66-b13366886382",
   "metadata": {},
   "outputs": [
    {
     "data": {
      "text/plain": [
       "33656"
      ]
     },
     "execution_count": 5,
     "metadata": {},
     "output_type": "execute_result"
    }
   ],
   "source": [
    "# Confirm the number of Properties \n",
    "Testing_excel_df['ADDRESS'].count()"
   ]
  },
  {
   "cell_type": "code",
   "execution_count": 6,
   "id": "3ce69da9-9070-4ed7-b267-dcea7f8451e3",
   "metadata": {},
   "outputs": [],
   "source": [
    "# Fill all GARAGE column values that are N/A with 0\n",
    "Testing_excel_df['GARAGE']=Testing_excel_df['GARAGE'].fillna(0)"
   ]
  },
  {
   "cell_type": "code",
   "execution_count": 7,
   "id": "660a14ae-7438-4898-ab7f-eec5c2ec81ad",
   "metadata": {},
   "outputs": [
    {
     "data": {
      "text/plain": [
       "2.0     20724\n",
       "1.0      5290\n",
       "0.0      2478\n",
       "3.0      2042\n",
       "4.0      1949\n",
       "6.0       466\n",
       "5.0       362\n",
       "8.0       129\n",
       "7.0        97\n",
       "12.0       30\n",
       "10.0       26\n",
       "9.0        17\n",
       "14.0       13\n",
       "13.0        8\n",
       "11.0        7\n",
       "16.0        4\n",
       "18.0        3\n",
       "20.0        3\n",
       "32.0        1\n",
       "17.0        1\n",
       "21.0        1\n",
       "99.0        1\n",
       "26.0        1\n",
       "22.0        1\n",
       "50.0        1\n",
       "31.0        1\n",
       "Name: GARAGE, dtype: int64"
      ]
     },
     "execution_count": 7,
     "metadata": {},
     "output_type": "execute_result"
    }
   ],
   "source": [
    "# Check the number of value counts produced inthe GARAGE column.\n",
    "Testing_excel_df['GARAGE'].value_counts()"
   ]
  },
  {
   "cell_type": "code",
   "execution_count": 8,
   "id": "ef81745f-0fde-4aaf-907e-4cf6b003cd2f",
   "metadata": {},
   "outputs": [
    {
     "data": {
      "text/plain": [
       "33656"
      ]
     },
     "execution_count": 8,
     "metadata": {},
     "output_type": "execute_result"
    }
   ],
   "source": [
    "# Check how many of the Properties had garage values matches the number of Properties\n",
    "Testing_excel_df['GARAGE'].count()"
   ]
  },
  {
   "cell_type": "code",
   "execution_count": 9,
   "id": "6349825c-628f-467e-9889-7c38c95eebdf",
   "metadata": {},
   "outputs": [
    {
     "data": {
      "text/plain": [
       "30501"
      ]
     },
     "execution_count": 9,
     "metadata": {},
     "output_type": "execute_result"
    }
   ],
   "source": [
    "# Check how many of the Properties had a build year value\n",
    "Testing_excel_df['BUILD_YEAR'].count()"
   ]
  },
  {
   "cell_type": "code",
   "execution_count": 10,
   "id": "32763454-2119-45ac-91be-d28f848a54bd",
   "metadata": {},
   "outputs": [],
   "source": [
    "# Drop all Properties with a build value of Null\n",
    "no_buildyear_df = Testing_excel_df.dropna(subset=['BUILD_YEAR'])"
   ]
  },
  {
   "cell_type": "code",
   "execution_count": 11,
   "id": "d234ae22-4c21-4bbc-96e5-430c0d59bda3",
   "metadata": {},
   "outputs": [
    {
     "data": {
      "text/plain": [
       "30501"
      ]
     },
     "execution_count": 11,
     "metadata": {},
     "output_type": "execute_result"
    }
   ],
   "source": [
    "#Check the number of properties with garage counts now empty data cells have been dropped.\n",
    "no_buildyear_df['GARAGE'].count()"
   ]
  },
  {
   "cell_type": "code",
   "execution_count": 12,
   "id": "3795da7d-4225-4d2e-bd4e-7e60be5263b2",
   "metadata": {},
   "outputs": [
    {
     "data": {
      "text/plain": [
       "30501"
      ]
     },
     "execution_count": 12,
     "metadata": {},
     "output_type": "execute_result"
    }
   ],
   "source": [
    "#Confirm the number of properties with garage counts is the same as the number of Properties\n",
    "no_buildyear_df['ADDRESS'].count()"
   ]
  },
  {
   "cell_type": "code",
   "execution_count": null,
   "id": "46cb0077-1dbb-4868-a38d-11d421c928a2",
   "metadata": {},
   "outputs": [],
   "source": [
    "#Save Data file.\n",
    "no_buildyear_df.to_csv(\"cleaned_perth_data.csv\", index=False, header= True)"
   ]
  },
  {
   "cell_type": "code",
   "execution_count": null,
   "id": "6b05cfae-de22-4372-a832-ddf6a8472abf",
   "metadata": {},
   "outputs": [],
   "source": []
  },
  {
   "cell_type": "code",
   "execution_count": null,
   "id": "2f04b3c9-8e49-4cb6-b082-587e9bcec64c",
   "metadata": {},
   "outputs": [],
   "source": []
  },
  {
   "cell_type": "code",
   "execution_count": null,
   "id": "08e4f070-c73f-4304-8a8a-f9bc72458140",
   "metadata": {},
   "outputs": [],
   "source": []
  }
 ],
 "metadata": {
  "kernelspec": {
   "display_name": "Python 3 (ipykernel)",
   "language": "python",
   "name": "python3"
  },
  "language_info": {
   "codemirror_mode": {
    "name": "ipython",
    "version": 3
   },
   "file_extension": ".py",
   "mimetype": "text/x-python",
   "name": "python",
   "nbconvert_exporter": "python",
   "pygments_lexer": "ipython3",
   "version": "3.10.12"
  }
 },
 "nbformat": 4,
 "nbformat_minor": 5
}
