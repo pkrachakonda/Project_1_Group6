{
 "cells": [
  {
   "cell_type": "code",
   "execution_count": null,
   "id": "23096b17-5753-4316-a447-0c98db303f41",
   "metadata": {
    "tags": []
   },
   "outputs": [],
   "source": [
    "# Dependencies\n",
    "import pandas as pd\n",
    "import matplotlib.pyplot as plt\n",
    "import scipy.stats as st\n",
    "import requests\n",
    "import seaborn as sns\n",
    "from pprint import pprint\n",
    "import numpy as np\n",
    "from api_keys import geoapify_key"
   ]
  },
  {
   "cell_type": "code",
   "execution_count": null,
   "id": "1a2b02ed-f62e-4f15-8c88-9e4afc1e6ac4",
   "metadata": {
    "tags": []
   },
   "outputs": [],
   "source": [
    "# Import CSV as a Dataframe.\n",
    "city_data_df = pd.read_csv(\"cleaned_perth_data.csv\")\n",
    "city_data_df"
   ]
  },
  {
   "cell_type": "code",
   "execution_count": null,
   "id": "50c62747-85c7-409a-8055-a399101807d1",
   "metadata": {
    "tags": []
   },
   "outputs": [],
   "source": [
    "# 1. How does the age of a property and its distance from the CBD relate to its selling price?"
   ]
  },
  {
   "cell_type": "code",
   "execution_count": null,
   "id": "752a592e-0768-4f65-9bc2-9eae5b51873f",
   "metadata": {},
   "outputs": [],
   "source": []
  },
  {
   "cell_type": "code",
   "execution_count": null,
   "id": "a06c3398-441d-4ac0-b575-312cc134bf82",
   "metadata": {
    "tags": []
   },
   "outputs": [],
   "source": [
    "\n",
    "# Grid of subplots\n",
    "fig, axes = plt.subplots(nrows=2, ncols=1, figsize=(10, 12))\n",
    "\n",
    "# Scatter plot of property age\n",
    "sns.scatterplot(data=city_data_df, x='BUILD_YEAR', y='PRICE', ax=axes[0])\n",
    "axes[0].set_title('Property Age vs. Price')\n",
    "\n",
    "# Scatter plot of CBD distance\n",
    "sns.scatterplot(data=city_data_df, x='CBD_DIST', y='PRICE', ax=axes[1])\n",
    "axes[1].set_title('CBD Distance vs. Price')\n",
    "\n",
    "plt.tight_layout()\n",
    "plt.show()\n"
   ]
  },
  {
   "cell_type": "code",
   "execution_count": null,
   "id": "48ff6278-a45d-43a7-a29f-ba514b711052",
   "metadata": {},
   "outputs": [],
   "source": []
  },
  {
   "cell_type": "code",
   "execution_count": null,
   "id": "2fbda511-df21-46e1-9ecf-328b99e8e5e9",
   "metadata": {},
   "outputs": [],
   "source": []
  },
  {
   "cell_type": "code",
   "execution_count": null,
   "id": "2e62a934-750e-43f8-9e9e-27fb03ebb974",
   "metadata": {},
   "outputs": [],
   "source": [
    "selected_data"
   ]
  },
  {
   "cell_type": "code",
   "execution_count": null,
   "id": "e3f28fb6-0c25-4024-a454-fcf4bc55adeb",
   "metadata": {
    "tags": []
   },
   "outputs": [],
   "source": [
    "# Assuming you have a DataFrame named city_data_df\n",
    "selected_columns = ['NEAREST_SCH_RANK', 'PRICE']\n",
    "selected_data = city_data_df[selected_columns]\n",
    "\n",
    "# Drop rows with missing values in 'NEAREST_SCH_RANK' or 'PRICE' columns\n",
    "selected_data = selected_data.dropna()\n",
    "\n",
    "# Grouping data by NEAREST_SCH_RANK and calculating the mean price\n",
    "average_prices_by_rank = selected_data.groupby('NEAREST_SCH_RANK')['PRICE'].mean()\n",
    "\n",
    "# Sorting the data by rank\n",
    "average_prices_by_rank = average_prices_by_rank.sort_index()\n",
    "\n",
    "# Calculate Pearson correlation coefficient (r value) and p-value\n",
    "corr_coeff, p_value = st.pearsonr(selected_data['NEAREST_SCH_RANK'], selected_data['PRICE'])\n",
    "\n",
    "# Create a regression plot with correlation line\n",
    "plt.figure(figsize=(10, 6))\n",
    "sns.regplot(data=average_prices_by_rank.reset_index(), x='NEAREST_SCH_RANK', y='PRICE', scatter_kws={'s': 50}, line_kws={'color': 'red'})\n",
    "plt.title('Impact of Nearest School Rank on Average Housing Prices')\n",
    "plt.xlabel('Nearest School Rank')\n",
    "plt.ylabel('Average Housing Price')\n",
    "plt.annotate(f'Correlation Coefficient (r) = {corr_coeff:.2f}', xy=(0.05, 0.85), xycoords='axes fraction')\n",
    "plt.tight_layout()\n",
    "plt.show()\n"
   ]
  },
  {
   "cell_type": "code",
   "execution_count": null,
   "id": "ac39ddc7-d3c9-4b12-93e7-a96ff3edb3d0",
   "metadata": {
    "tags": []
   },
   "outputs": [],
   "source": [
    "selected_columns \n"
   ]
  },
  {
   "cell_type": "code",
   "execution_count": null,
   "id": "f06192c0-6c65-4df7-ae61-20eee8ea6f45",
   "metadata": {},
   "outputs": [],
   "source": [
    "# 2. What is the impact of school proximity and transportation availability on housing prices?"
   ]
  },
  {
   "cell_type": "code",
   "execution_count": null,
   "id": "4930873d-a266-425c-acdd-faf58bcfed5c",
   "metadata": {},
   "outputs": [],
   "source": []
  },
  {
   "cell_type": "code",
   "execution_count": null,
   "id": "09e9a026-37fd-40e8-aecf-7b8596cc3803",
   "metadata": {},
   "outputs": [],
   "source": []
  },
  {
   "cell_type": "code",
   "execution_count": null,
   "id": "82dbb03e-f083-4280-bc09-33e956620d9b",
   "metadata": {
    "tags": []
   },
   "outputs": [],
   "source": [
    "\n",
    "# Selecting columns for visualization\n",
    "selected_columns = ['NEAREST_STN_DIST', 'CBD_DIST', 'PRICE']\n",
    "selected_data = city_data_df[selected_columns]\n",
    "\n",
    "# Create a regression plot with correlation lines\n",
    "plt.figure(figsize=(10, 6))\n",
    "\n",
    "# Regression plot for NEAREST_STN_DIST (green)\n",
    "sns.regplot(data=selected_data, x='NEAREST_STN_DIST', y='PRICE', scatter_kws={'s': 50}, line_kws={'color': 'green'}, label='Nearest Train Station Distance')\n",
    "\n",
    "# Regression plot for CBD_DIST (blue)\n",
    "sns.regplot(data=selected_data, x='CBD_DIST', y='PRICE', scatter_kws={'s': 50}, line_kws={'color': 'blue'}, label='Distance from CBD')\n",
    "\n",
    "plt.title('Impact of Nearest Train Station Distance and CBD Distance on Housing Prices')\n",
    "plt.xlabel('Distance')\n",
    "plt.ylabel('Housing Price')\n",
    "\n",
    "# Annotate the plot with correlation information\n",
    "corr_coeff_stn, p_value_stn = st.pearsonr(selected_data['NEAREST_STN_DIST'], selected_data['PRICE'])\n",
    "corr_coeff_cbd, p_value_cbd = st.pearsonr(selected_data['CBD_DIST'], selected_data['PRICE'])\n",
    "\n",
    "plt.annotate(f'Correlation (Train Station Dist) = {corr_coeff_stn:.2f}', xy=(0.05, 0.85), xycoords='axes fraction')\n",
    "plt.annotate(f'Correlation (CBD Dist) = {corr_coeff_cbd:.2f}', xy=(0.05, 0.78), xycoords='axes fraction')\n",
    "\n",
    "plt.legend()\n",
    "plt.tight_layout()\n",
    "plt.show()\n"
   ]
  },
  {
   "cell_type": "code",
   "execution_count": null,
   "id": "8aac1bb1-3b5d-40ab-83e0-849f6a3f30ba",
   "metadata": {},
   "outputs": [],
   "source": []
  },
  {
   "cell_type": "code",
   "execution_count": null,
   "id": "ad7c1571-19bc-4f11-8664-746623d30564",
   "metadata": {},
   "outputs": [],
   "source": []
  },
  {
   "cell_type": "code",
   "execution_count": null,
   "id": "c28627ad-94b3-46dd-88f3-9ff9738e661c",
   "metadata": {},
   "outputs": [],
   "source": []
  },
  {
   "cell_type": "code",
   "execution_count": null,
   "id": "9179772a-13f9-4294-8ff8-58646abeb222",
   "metadata": {},
   "outputs": [],
   "source": []
  },
  {
   "cell_type": "code",
   "execution_count": null,
   "id": "8f7b76eb-cc85-47e3-98fa-5b587457499c",
   "metadata": {},
   "outputs": [],
   "source": []
  },
  {
   "cell_type": "code",
   "execution_count": null,
   "id": "7da80e71-ca44-4713-ac4d-7fb1735733c3",
   "metadata": {},
   "outputs": [],
   "source": [
    "# . How do housing design features and land size influence property prices?"
   ]
  },
  {
   "cell_type": "code",
   "execution_count": null,
   "id": "e783143a-0698-4fe1-a4fa-fa0905e5ff98",
   "metadata": {},
   "outputs": [],
   "source": []
  },
  {
   "cell_type": "code",
   "execution_count": null,
   "id": "b5bf00a5-8bd8-4df0-bbdf-e16d23e506f3",
   "metadata": {
    "tags": []
   },
   "outputs": [],
   "source": [
    "\n",
    "# Selecting columns for analysis\n",
    "selected_columns = ['PRICE', 'LAND_AREA', 'FLOOR_AREA', 'BEDROOMS', 'BATHROOMS']\n",
    "selected_data = city_data_df[selected_columns]\n",
    "\n",
    "# Removing rows with missing values in selected columns\n",
    "selected_data = selected_data.dropna()\n",
    "\n",
    "# EDA: Scatter plots for housing design features vs. price\n",
    "plt.figure(figsize=(12, 8))\n",
    "\n",
    "plt.subplot(2, 2, 1)\n",
    "sns.scatterplot(data=selected_data, x='BEDROOMS', y='PRICE')\n",
    "\n",
    "plt.subplot(2, 2, 2)\n",
    "sns.scatterplot(data=selected_data, x='BATHROOMS', y='PRICE')\n",
    "\n",
    "plt.subplot(2, 2, 3)\n",
    "sns.scatterplot(data=selected_data, x='FLOOR_AREA', y='PRICE')\n",
    "\n",
    "plt.subplot(2, 2, 4)\n",
    "sns.scatterplot(data=selected_data, x='LAND_AREA', y='PRICE')\n",
    "\n",
    "plt.tight_layout()\n",
    "plt.show()\n",
    "\n",
    "# Correlation analysis\n",
    "correlation_matrix = selected_data.corr()\n",
    "print(correlation_matrix)\n",
    "\n",
    "# Regression analysis\n",
    "X = selected_data[['LAND_AREA', 'FLOOR_AREA', 'BEDROOMS', 'BATHROOMS']]\n",
    "X = sm.add_constant(X)  # Add constant term for intercept\n",
    "y = selected_data['PRICE']\n",
    "\n",
    "model = sm.OLS(y, X).fit()\n",
    "print(model.summary())\n"
   ]
  },
  {
   "cell_type": "code",
   "execution_count": null,
   "id": "f2d10c6c-60c6-47c0-9bef-31885a376c38",
   "metadata": {},
   "outputs": [],
   "source": []
  },
  {
   "cell_type": "code",
   "execution_count": null,
   "id": "b592c9eb-15d1-4024-8e55-4e65c84e6993",
   "metadata": {
    "tags": []
   },
   "outputs": [],
   "source": [
    "import pandas as pd\n",
    "import folium\n",
    "from folium.plugins import MarkerCluster\n",
    "\n",
    "# Load property data\n",
    "# Assuming you have the data loaded in the DataFrame city_data_df\n",
    "\n",
    "# Selecting columns for analysis\n",
    "selected_columns = ['POSTCODE', 'LATITUDE', 'LONGITUDE', 'PRICE', 'BEDROOMS', 'BATHROOMS', 'LAND_AREA', 'ADDRESS', 'NEAREST_SCH_RANK', 'NEAREST_SCH']\n",
    "selected_data = city_data_df[selected_columns].copy()\n",
    "\n",
    "# Define a function to categorize property prices\n",
    "def categorize_price(price):\n",
    "    if price <= 500000:\n",
    "        return 'Low'\n",
    "    elif price <= 1000000:\n",
    "        return 'Medium'\n",
    "    else:\n",
    "        return 'High'\n",
    "\n",
    "selected_data['PRICE_CATEGORY'] = selected_data['PRICE'].apply(categorize_price)\n",
    "\n",
    "# Define color mapping for price categories\n",
    "color_mapping = {\n",
    "    'Low': 'yellow',\n",
    "    'Medium': 'green',\n",
    "    'High': 'red'\n",
    "}\n",
    "\n",
    "# Create a folium map centered on Perth\n",
    "perth_map = folium.Map(location=[-31.953512, 115.857048], zoom_start=12)\n",
    "\n",
    "# Add colored postal code areas to the map\n",
    "marker_cluster = MarkerCluster().add_to(perth_map)\n",
    "\n",
    "for _, row in selected_data.iterrows():\n",
    "    folium.CircleMarker(\n",
    "        location=[row['LATITUDE'], row['LONGITUDE']],\n",
    "        radius=8,\n",
    "        color=None,\n",
    "        fill=True,\n",
    "        fill_color=color_mapping[row['PRICE_CATEGORY']],\n",
    "        fill_opacity=0.7,\n",
    "        popup=f\"Address: {row['ADDRESS']}<br>\"\n",
    "              f\"Price: ${row['PRICE']:,}<br>\"\n",
    "              f\"Bedrooms: {row['BEDROOMS']}<br>\"\n",
    "              f\"Bathrooms: {row['BATHROOMS']}<br>\"\n",
    "              f\"Land Area: {row['LAND_AREA']} sqft<br>\"\n",
    "              f\"Nearest School: {row['NEAREST_SCH']}<br>\"\n",
    "              f\"School Ranking: {row['NEAREST_SCH_RANK']}\"\n",
    "    ).add_to(marker_cluster)\n",
    "\n",
    "# Show the map\n",
    "perth_map.save('perth_property_map.html')  # Save as an HTML file\n",
    "perth_map\n"
   ]
  },
  {
   "cell_type": "code",
   "execution_count": null,
   "id": "8b686876-57eb-464f-aeea-3e36f9c0fc65",
   "metadata": {},
   "outputs": [],
   "source": []
  },
  {
   "cell_type": "code",
   "execution_count": null,
   "id": "9cdc345c-8e1a-4d9f-9856-c7ff22af5df2",
   "metadata": {
    "tags": []
   },
   "outputs": [],
   "source": [
    "# import folium\n",
    "\n",
    "\n",
    "# # Create a folium map centered on Perth\n",
    "# perth_map = folium.Map(location=[-31.953512, 115.857048], zoom_start=12)\n",
    "\n",
    "# # Define color mapping for price categories\n",
    "# color_mapping = {\n",
    "#     'Low': 'yellow',\n",
    "#     'Medium': 'green',\n",
    "#     'High': 'red'\n",
    "# }\n",
    "\n",
    "# for _, row in selected_data.iterrows():\n",
    "#     # Create a custom CircleMarker for each property\n",
    "#     folium.CircleMarker(\n",
    "#         location=[row['LATITUDE'], row['LONGITUDE']],\n",
    "#         radius=8,\n",
    "#         color=None,\n",
    "#         fill=True,\n",
    "#         fill_color=color_mapping[row['PRICE_CATEGORY']],\n",
    "#         fill_opacity=0.7,\n",
    "#         popup=f\"Address: {row['ADDRESS']}<br>\"\n",
    "#               f\"Price: ${row['PRICE']:,}<br>\"\n",
    "#               f\"Bedrooms: {row['BEDROOMS']}<br>\"\n",
    "#               f\"Bathrooms: {row['BATHROOMS']}<br>\"\n",
    "#               f\"Land Area: {row['LAND_AREA']} sqmeter<br>\"\n",
    "#               f\"Nearest School: {row['NEAREST_SCH']}<br>\"\n",
    "#               f\"School Ranking: {row['NEAREST_SCH_RANK']}\"\n",
    "#     ).add_to(perth_map)\n",
    "\n",
    "# # Add the legend to the map\n",
    "# legend_html = \"\"\"\n",
    "# <div style=\"position: fixed; bottom: 16px; right: 16px; background-color: white; padding: 4px; border: 1px solid black; z-index: 1000;\">\n",
    "#   <h4 style=\"font-size: 14px;\">Price Range</h4>\n",
    "#   <i style=\"background: yellow; border-radius: 50%; display: inline-block; width: 9px; height: 9px;\"></i> Low (< $500,000)<br>\n",
    "#   <i style=\"background: green; border-radius: 50%; display: inline-block; width: 9px; height: 9px;\"></i> Medium ($500,001 - $1,000,000)<br>\n",
    "#   <i style=\"background: red; border-radius: 50%; display: inline-block; width: 9px; height: 9px;\"></i> High (> $1,000,000)<br>\n",
    "# </div>\n",
    "# \"\"\"\n",
    "\n",
    "# perth_map.get_root().html.add_child(folium.Element(legend_html))\n",
    "\n",
    "# # Show the map\n",
    "# # perth_map.save('perth_property_map.html')  # Save as an HTML file\n",
    "# perth_map\n"
   ]
  },
  {
   "cell_type": "code",
   "execution_count": null,
   "id": "b722480b-209e-40b5-85bd-c2be352d761f",
   "metadata": {},
   "outputs": [],
   "source": []
  }
 ],
 "metadata": {
  "kernelspec": {
   "display_name": "Python 3 (ipykernel)",
   "language": "python",
   "name": "python3"
  },
  "language_info": {
   "codemirror_mode": {
    "name": "ipython",
    "version": 3
   },
   "file_extension": ".py",
   "mimetype": "text/x-python",
   "name": "python",
   "nbconvert_exporter": "python",
   "pygments_lexer": "ipython3",
   "version": "3.11.3"
  }
 },
 "nbformat": 4,
 "nbformat_minor": 5
}
